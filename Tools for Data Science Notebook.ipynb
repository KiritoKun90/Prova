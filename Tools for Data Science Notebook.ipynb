{
    "cells": [
        {
            "cell_type": "markdown",
            "metadata": {
                "collapsed": true
            },
            "source": "# My Jupyter Notebook on IBM Watson Studio"
        },
        {
            "cell_type": "markdown",
            "metadata": {},
            "source": "<strong>Kevin Giuseppe Maria Baselice</strong><br>\nData Scientist"
        },
        {
            "cell_type": "markdown",
            "metadata": {},
            "source": "<i>I am interested in data science because I love to work and to gain insights from data </i>"
        },
        {
            "cell_type": "markdown",
            "metadata": {},
            "source": "### The following code add two numbers and diplay their sum"
        },
        {
            "cell_type": "code",
            "execution_count": 6,
            "metadata": {},
            "outputs": [
                {
                    "name": "stdout",
                    "output_type": "stream",
                    "text": "The sum of 1.5 and 6.3 is 7.8\n"
                }
            ],
            "source": "num1 = 1.5\nnum2 = 6.3\n\nsum = num1 + num2\n\nprint('The sum of {0} and {1} is {2}'.format(num1, num2, sum))"
        },
        {
            "cell_type": "markdown",
            "metadata": {},
            "source": "<hr>\n<ul>\n  <li>Bulleted list 1st point</li>\n  <li>Bulleted list 2nd point</li>\n  <li>Bulleted list 3rd point</li>\n</ul>\n<p><s>In this line you can see a strikethrough tag</s></p>"
        }
    ],
    "metadata": {
        "kernelspec": {
            "display_name": "Python 3.9",
            "language": "python",
            "name": "python3"
        },
        "language_info": {
            "codemirror_mode": {
                "name": "ipython",
                "version": 3
            },
            "file_extension": ".py",
            "mimetype": "text/x-python",
            "name": "python",
            "nbconvert_exporter": "python",
            "pygments_lexer": "ipython3",
            "version": "3.9.12"
        }
    },
    "nbformat": 4,
    "nbformat_minor": 1
}